{
 "cells": [
  {
   "cell_type": "code",
   "execution_count": null,
   "id": "48e0dcf6",
   "metadata": {},
   "outputs": [
    {
     "name": "stdout",
     "output_type": "stream",
     "text": [
      "0: Ibrahim’s iPhone Microphone\n",
      "1: MacBook Pro Microphone\n",
      "3: Immersed\n"
     ]
    },
    {
     "data": {
      "application/vnd.jupyter.widget-view+json": {
       "model_id": "75162b2d92564fedaad664c9cab233db",
       "version_major": 2,
       "version_minor": 0
      },
      "text/plain": [
       "VBox(children=(Dropdown(description='Device', options=(('0: Ibrahim’s iPhone Microphone', 0), ('1: MacBook Pro…"
      ]
     },
     "metadata": {},
     "output_type": "display_data"
    }
   ],
   "source": [
    "# Example: list devices and record a 2 second snippet\n",
    "from Preparation.Import.audio_and_encoder import list_audio_devices, record_snippet\n",
    "# Build and display the recorder UI from the audio_and_encoder module\n",
    "from Preparation.Import.audio_and_encoder import create_recorder_ui\n",
    "\n",
    "# List available input devices (show index and name)\n",
    "devices = list_audio_devices()\n",
    "print('\\n'.join(devices))\n",
    "ui = create_recorder_ui(base_dir=\"regression_data/\")\n",
    "display(ui)"
   ]
  }
 ],
 "metadata": {
  "kernelspec": {
   "display_name": "base",
   "language": "python",
   "name": "python3"
  },
  "language_info": {
   "codemirror_mode": {
    "name": "ipython",
    "version": 3
   },
   "file_extension": ".py",
   "mimetype": "text/x-python",
   "name": "python",
   "nbconvert_exporter": "python",
   "pygments_lexer": "ipython3",
   "version": "3.12.11"
  }
 },
 "nbformat": 4,
 "nbformat_minor": 5
}
