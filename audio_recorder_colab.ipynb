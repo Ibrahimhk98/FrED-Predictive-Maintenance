{
 "cells": [
  {
   "cell_type": "markdown",
   "id": "9a822338",
   "metadata": {},
   "source": [
    "# Audio Recorder\n",
    "\n",
    "This notebook demonstrates how to use `Preparation.Import.audio_recorder` to list input devices and record short audio snippets organized by defect type.\n",
    "\n",
    "Notes:\n",
    "- Ensure you installed the dependencies from `Preparation/Import/requirements.txt`.\n",
    "- On macOS grant microphone permission to your terminal/IDE before recording."
   ]
  },
  {
   "cell_type": "code",
   "execution_count": null,
   "id": "70353ba7",
   "metadata": {},
   "outputs": [
    {
     "name": "stdout",
     "output_type": "stream",
     "text": [
      "Cloning into 'FrED-Predictive-Maintenance-'...\n",
      "remote: Enumerating objects: 219, done.\u001b[K\n",
      "remote: Counting objects: 100% (21/21), done.\u001b[K\n",
      "remote: Compressing objects: 100% (21/21), done.\u001b[K\n",
      "^Cceiving objects:  22% (49/219), 102.32 MiB | 13.48 MiB/s\n"
     ]
    }
   ],
   "source": [
    "import os\n",
    "\n",
    "# Clone the repository if it doesn't exist\n",
    "if not os.path.exists('fred-predictive-maintenance'):\n",
    "    !git clone https://github.com/Ibrahimhk98/FrED-Predictive-Maintenance.git\n",
    "else:\n",
    "    print(\"Repository already cloned.\")"
   ]
  },
  {
   "cell_type": "code",
   "execution_count": null,
   "id": "06f7912a",
   "metadata": {},
   "outputs": [
    {
     "name": "stdout",
     "output_type": "stream",
     "text": [
      "Error installing requirements: Command '['/Users/ibrahimelkhatib/miniforge3/bin/python', '-m', 'pip', 'install', '-r', '/requirements.txt']' returned non-zero exit status 1.\n"
     ]
    },
    {
     "name": "stderr",
     "output_type": "stream",
     "text": [
      "\u001b[31mERROR: Could not open requirements file: [Errno 2] No such file or directory: '/requirements.txt'\u001b[0m\u001b[31m\n",
      "\u001b[0m"
     ]
    }
   ],
   "source": [
    "# Install required packages\n",
    "!pip install -r FrED-Predictive-Maintenance/requirements.txt\n"
   ]
  },
  {
   "cell_type": "code",
   "execution_count": null,
   "id": "4c5e334b",
   "metadata": {},
   "outputs": [
    {
     "name": "stdout",
     "output_type": "stream",
     "text": [
      "0: Ibrahim’s iPhone Microphone\n",
      "2: MacBook Pro Microphone\n",
      "4: Immersed\n"
     ]
    },
    {
     "data": {
      "application/vnd.jupyter.widget-view+json": {
       "model_id": "8d01b89baac54516bab5bb717dbfc539",
       "version_major": 2,
       "version_minor": 0
      },
      "text/plain": [
       "VBox(children=(Dropdown(description='Device', options=(('0: Ibrahim’s iPhone Microphone', 0), ('2: MacBook Pro…"
      ]
     },
     "metadata": {},
     "output_type": "display_data"
    }
   ],
   "source": [
    "# Add the repository to Python path for imports\n",
    "import sys\n",
    "sys.path.append('/content/FrED-Predictive-Maintenance')\n",
    "\n",
    "# Import the audio recorder functions\n",
    "from Preparation.Import.audio_recorder import list_audio_devices, record_snippet, create_recorder_ui\n",
    "from google.colab import drive\n",
    "import os\n",
    "\n",
    "# List available input devices (show index and name)\n",
    "devices = list_audio_devices()\n",
    "print('\\n'.join(devices))\n",
    "# Mount Google Drive\n",
    "drive.mount('/content/drive')\n",
    "shared_folder_id = \"1p7JVh_gL663af7pwGHQPBWmp1TiS3GPz\"\n",
    "# Use the shared drive provided by instructor\n",
    "data_folder = f\"/content/drive/MyDrive/{shared_folder_id}\"\n",
    "\n",
    "# Create recorder UI with Google Drive data folder\n",
    "ui = create_recorder_ui(base_dir=data_folder)\n",
    "display(ui)\n"
   ]
  }
 ],
 "metadata": {
  "kernelspec": {
   "display_name": "base",
   "language": "python",
   "name": "python3"
  },
  "language_info": {
   "codemirror_mode": {
    "name": "ipython",
    "version": 3
   },
   "file_extension": ".py",
   "mimetype": "text/x-python",
   "name": "python",
   "nbconvert_exporter": "python",
   "pygments_lexer": "ipython3",
   "version": "3.12.11"
  }
 },
 "nbformat": 4,
 "nbformat_minor": 5
}
