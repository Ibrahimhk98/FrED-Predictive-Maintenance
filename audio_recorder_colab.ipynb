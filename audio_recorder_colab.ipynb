{
 "cells": [
  {
   "cell_type": "markdown",
   "id": "9a822338",
   "metadata": {},
   "source": [
    "# Google Colab Audio Recorder\n",
    "\n",
    "This notebook demonstrates browser-based audio recording in Google Colab using JavaScript and the Web Audio API. This approach bypasses PyAudio limitations and works directly in the browser.\n",
    "\n",
    "**🎤 Browser-Based Recording Features:**\n",
    "- Direct microphone access through browser (no PyAudio needed)\n",
    "- Same UI design and functionality as the original recorder\n",
    "- Automatic file saving with timestamps and defect classification\n",
    "- Real-time recording timer and status updates\n",
    "- Compatible with Google Drive for data persistence\n",
    "\n",
    "**📋 Instructions:**\n",
    "1. **Allow Microphone Access**: Click \"Allow\" when your browser asks for microphone permission\n",
    "2. **Select Defect Type**: Choose the appropriate classification for your recording\n",
    "3. **Set Duration**: Choose recording length (1-10 seconds)\n",
    "4. **Record**: Click \"START RECORDING\" and speak into your microphone\n",
    "5. **Auto-Save**: Files are automatically saved with timestamps"
   ]
  },
  {
   "cell_type": "code",
   "execution_count": null,
   "id": "70353ba7",
   "metadata": {},
   "outputs": [
    {
     "name": "stdout",
     "output_type": "stream",
     "text": [
      "Cloning into 'FrED-Predictive-Maintenance-'...\n",
      "remote: Enumerating objects: 219, done.\u001b[K\n",
      "remote: Counting objects: 100% (21/21), done.\u001b[K\n",
      "remote: Compressing objects: 100% (21/21), done.\u001b[K\n",
      "^Cceiving objects:  22% (49/219), 102.32 MiB | 13.48 MiB/s\n"
     ]
    }
   ],
   "source": [
    "import os\n",
    "\n",
    "# Clone the repository if it doesn't exist\n",
    "if not os.path.exists('FrED-Predictive-Maintenance'):\n",
    "    !git clone https://github.com/Ibrahimhk98/FrED-Predictive-Maintenance.git\n",
    "    print(\"✅ Repository cloned successfully!\")\n",
    "else:\n",
    "    print(\"✅ Repository already exists\")"
   ]
  },
  {
   "cell_type": "code",
   "execution_count": null,
   "id": "06f7912a",
   "metadata": {},
   "outputs": [
    {
     "name": "stdout",
     "output_type": "stream",
     "text": [
      "Error installing requirements: Command '['/Users/ibrahimelkhatib/miniforge3/bin/python', '-m', 'pip', 'install', '-r', '/requirements.txt']' returned non-zero exit status 1.\n"
     ]
    },
    {
     "name": "stderr",
     "output_type": "stream",
     "text": [
      "\u001b[31mERROR: Could not open requirements file: [Errno 2] No such file or directory: '/requirements.txt'\u001b[0m\u001b[31m\n",
      "\u001b[0m"
     ]
    }
   ],
   "source": [
    "# Install required packages (no PyAudio needed for browser recording!)\n",
    "print(\"📦 Installing Python dependencies...\")\n",
    "!pip install ipywidgets numpy\n",
    "\n",
    "print(\"✅ Dependencies installed - ready for browser-based recording!\")"
   ]
  },
  {
   "cell_type": "code",
   "execution_count": null,
   "id": "ed66ee63",
   "metadata": {},
   "outputs": [],
   "source": [
    "# Mount Google Drive for data storage\n",
    "from google.colab import drive\n",
    "import os\n",
    "\n",
    "print(\"📁 Mounting Google Drive...\")\n",
    "drive.mount('/content/drive')\n",
    "\n",
    "# Use the shared folder ID for common data storage\n",
    "shared_folder_id = \"1p7JVh_gL663af7pwGHQPBWmp1TiS3GPz\"\n",
    "data_folder = f\"/content/drive/MyDrive/{shared_folder_id}\"\n",
    "\n",
    "# Create the shared folder if it doesn't exist\n",
    "if not os.path.exists(data_folder):\n",
    "    os.makedirs(data_folder, exist_ok=True)\n",
    "    print(f\"📁 Created shared audio data folder: {data_folder}\")\n",
    "else:\n",
    "    print(f\"✅ Using shared data folder: {data_folder}\")\n",
    "\n",
    "print(f\"🔗 Shared Folder ID: {shared_folder_id}\")\n",
    "print(\"🎵 Audio files will be organized by defect type automatically!\")\n",
    "print(\"👥 All students will save to the same shared location for easy access\")"
   ]
  },
  {
   "cell_type": "code",
   "execution_count": null,
   "id": "9d91cb4e",
   "metadata": {},
   "outputs": [],
   "source": [
    "# Verify shared folder setup and show structure\n",
    "print(\"🔍 Verifying shared folder setup...\")\n",
    "print(f\"📍 Shared Folder Path: {data_folder}\")\n",
    "\n",
    "# Check if the folder is accessible\n",
    "if os.path.exists(data_folder):\n",
    "    print(\"✅ Shared folder is accessible\")\n",
    "    \n",
    "    # Show existing structure if any\n",
    "    try:\n",
    "        contents = os.listdir(data_folder)\n",
    "        if contents:\n",
    "            print(f\"📂 Existing contents ({len(contents)} items):\")\n",
    "            for item in sorted(contents):\n",
    "                item_path = os.path.join(data_folder, item)\n",
    "                if os.path.isdir(item_path):\n",
    "                    file_count = len([f for f in os.listdir(item_path) if f.endswith('.wav')])\n",
    "                    print(f\"   📁 {item}/ ({file_count} audio files)\")\n",
    "                else:\n",
    "                    print(f\"   📄 {item}\")\n",
    "        else:\n",
    "            print(\"📂 Shared folder is empty - ready for new recordings\")\n",
    "    except Exception as e:\n",
    "        print(f\"⚠️ Could not list contents: {e}\")\n",
    "else:\n",
    "    print(\"❌ Shared folder not accessible - creating it now...\")\n",
    "    os.makedirs(data_folder, exist_ok=True)\n",
    "\n",
    "print(\"\\n\" + \"=\"*60)\n",
    "print(\"🎯 SHARED FOLDER CONFIGURATION\")\n",
    "print(\"=\"*60)\n",
    "print(f\"🆔 Folder ID: {shared_folder_id}\")\n",
    "print(f\"📍 Full Path: {data_folder}\")\n",
    "print(\"👥 All student recordings will be saved here\")\n",
    "print(\"🎵 Files organized by defect type automatically\")\n",
    "print(\"=\"*60)"
   ]
  },
  {
   "cell_type": "code",
   "execution_count": null,
   "id": "4c5e334b",
   "metadata": {},
   "outputs": [
    {
     "name": "stdout",
     "output_type": "stream",
     "text": [
      "0: Ibrahim’s iPhone Microphone\n",
      "2: MacBook Pro Microphone\n",
      "4: Immersed\n"
     ]
    },
    {
     "data": {
      "application/vnd.jupyter.widget-view+json": {
       "model_id": "8d01b89baac54516bab5bb717dbfc539",
       "version_major": 2,
       "version_minor": 0
      },
      "text/plain": [
       "VBox(children=(Dropdown(description='Device', options=(('0: Ibrahim’s iPhone Microphone', 0), ('2: MacBook Pro…"
      ]
     },
     "metadata": {},
     "output_type": "display_data"
    }
   ],
   "source": [
    "# Add the repository to Python path and import the Colab audio recorder\n",
    "import sys\n",
    "sys.path.append('/content/FrED-Predictive-Maintenance')\n",
    "\n",
    "# Import the Colab-compatible audio recorder\n",
    "from Preparation.Import.colab_audio_recorder_fixed import create_recorder_ui, list_colab_audio_devices\n",
    "\n",
    "# Show available audio capabilities\n",
    "print(\"🎤 Audio Device Information:\")\n",
    "print(\"=\" * 50)\n",
    "for info in list_colab_audio_devices():\n",
    "    print(info)\n",
    "\n",
    "print(\"\\n\" + \"=\"*60)\n",
    "print(\"🚀 Launching Browser-Based Audio Recorder...\")\n",
    "print(\"=\"*60)\n",
    "print(\"✅ ENHANCED FEATURES:\")\n",
    "print(\"   • Files save to Drive folder properly\")\n",
    "print(\"   • Duration extended to 400 seconds\")  \n",
    "print(\"   • Team numbers included in filenames\")\n",
    "print(\"   • Non-blocking JavaScript execution\")\n",
    "print(\"   • Audio device info displayed\")\n",
    "print(\"=\"*60)\n",
    "\n",
    "# Create and display the recorder UI with team number support\n",
    "# You can specify team number here: team_number=1, 2, 3, etc.\n",
    "ui = create_recorder_ui(base_dir=data_folder, team_number=None)  # Set team_number as needed\n",
    "display(ui)"
   ]
  },
  {
   "cell_type": "markdown",
   "id": "6c962c76",
   "metadata": {},
   "source": [
    "## 🔧 Recording Issues? Try the Working Version!\n",
    "\n",
    "If the audio recorder above isn't working properly, try this enhanced version with comprehensive debugging and multiple fallback mechanisms."
   ]
  },
  {
   "cell_type": "code",
   "execution_count": null,
   "id": "23482cd6",
   "metadata": {},
   "outputs": [],
   "source": [
    "# Import the WORKING version with comprehensive debugging\n",
    "from Preparation.Import.colab_audio_recorder_working import create_recorder_ui as create_working_recorder\n",
    "\n",
    "print(\"🔧 TROUBLESHOOTING AUDIO RECORDER\")\n",
    "print(\"=\" * 50)\n",
    "print(\"🎯 This version includes:\")\n",
    "print(\"   • Comprehensive debugging output\")\n",
    "print(\"   • Multiple fallback mechanisms\") \n",
    "print(\"   • Real-time error reporting\")\n",
    "print(\"   • System test functionality\")\n",
    "print(\"   • Enhanced microphone handling\")\n",
    "print(\"=\" * 50)\n",
    "\n",
    "# Create the working recorder with debugging enabled\n",
    "print(\"\\n🚀 Loading Working Audio Recorder...\")\n",
    "working_ui = create_working_recorder(base_dir=data_folder, team_number=None)\n",
    "display(working_ui)\n",
    "\n",
    "print(\"\\n📋 TROUBLESHOOTING STEPS:\")\n",
    "print(\"1. Click 'TEST SYSTEM' first to verify all components\")\n",
    "print(\"2. Check debug output for any error messages\")\n",
    "print(\"3. Allow microphone access when prompted\")\n",
    "print(\"4. Try a short recording (3-5 seconds) first\")\n",
    "print(\"5. Check the debug output for detailed status messages\")"
   ]
  },
  {
   "cell_type": "code",
   "execution_count": null,
   "id": "e22dec9f",
   "metadata": {},
   "outputs": [],
   "source": [
    "# DIAGNOSTIC CELL - Run this to identify recording issues\n",
    "print(\"🔍 AUDIO RECORDING DIAGNOSTICS\")\n",
    "print(\"=\" * 50)\n",
    "\n",
    "# Check 1: Google Colab environment\n",
    "try:\n",
    "    from google.colab import output, drive\n",
    "    print(\"✅ Google Colab: Available\")\n",
    "    colab_status = \"OK\"\n",
    "except ImportError:\n",
    "    print(\"❌ Google Colab: Not available (running locally?)\")\n",
    "    colab_status = \"FAIL\"\n",
    "\n",
    "# Check 2: Drive mounting\n",
    "if os.path.exists('/content/drive'):\n",
    "    print(\"✅ Google Drive: Mounted\")\n",
    "    drive_status = \"OK\"\n",
    "else:\n",
    "    print(\"❌ Google Drive: Not mounted\")\n",
    "    drive_status = \"FAIL\"\n",
    "\n",
    "# Check 3: Data folder accessibility\n",
    "if os.path.exists(data_folder):\n",
    "    print(f\"✅ Data folder: Accessible ({data_folder})\")\n",
    "    # Check write permissions\n",
    "    try:\n",
    "        test_file = os.path.join(data_folder, \"test_write.tmp\")\n",
    "        with open(test_file, 'w') as f:\n",
    "            f.write(\"test\")\n",
    "        os.remove(test_file)\n",
    "        print(\"✅ Write permissions: OK\")\n",
    "        folder_status = \"OK\"\n",
    "    except Exception as e:\n",
    "        print(f\"❌ Write permissions: FAILED - {e}\")\n",
    "        folder_status = \"FAIL\"\n",
    "else:\n",
    "    print(f\"❌ Data folder: Not accessible ({data_folder})\")\n",
    "    folder_status = \"FAIL\"\n",
    "\n",
    "# Check 4: JavaScript capabilities\n",
    "from IPython.display import Javascript\n",
    "display(Javascript(\"\"\"\n",
    "    console.log('🧪 JavaScript Diagnostic Test');\n",
    "    \n",
    "    // Check MediaRecorder support\n",
    "    if (typeof MediaRecorder !== 'undefined') {\n",
    "        console.log('✅ MediaRecorder: Supported');\n",
    "    } else {\n",
    "        console.log('❌ MediaRecorder: Not supported');\n",
    "    }\n",
    "    \n",
    "    // Check getUserMedia support\n",
    "    if (navigator.mediaDevices && navigator.mediaDevices.getUserMedia) {\n",
    "        console.log('✅ getUserMedia: Supported');\n",
    "    } else {\n",
    "        console.log('❌ getUserMedia: Not supported');\n",
    "    }\n",
    "    \n",
    "    // Check Google Colab API\n",
    "    if (typeof google !== 'undefined' && google.colab) {\n",
    "        console.log('✅ Google Colab API: Available');\n",
    "    } else {\n",
    "        console.log('❌ Google Colab API: Not available');\n",
    "    }\n",
    "    \n",
    "    console.log('📋 Check the browser console (F12) for these diagnostic messages');\n",
    "\"\"\"))\n",
    "\n",
    "print(\"\\n📊 DIAGNOSTIC SUMMARY:\")\n",
    "print(f\"   Colab Environment: {colab_status}\")\n",
    "print(f\"   Google Drive: {drive_status}\")\n",
    "print(f\"   Data Folder: {folder_status}\")\n",
    "print(\"   JavaScript: Check browser console (F12)\")\n",
    "\n",
    "print(\"\\n🔧 NEXT STEPS:\")\n",
    "if colab_status == \"FAIL\":\n",
    "    print(\"   • You must run this in Google Colab\")\n",
    "if drive_status == \"FAIL\":\n",
    "    print(\"   • Run the Google Drive mounting cell first\")\n",
    "if folder_status == \"FAIL\":\n",
    "    print(\"   • Check the data_folder path and permissions\")\n",
    "\n",
    "print(\"\\n💡 If all checks pass but recording still fails:\")\n",
    "print(\"   • Try the working recorder above with debug output\")\n",
    "print(\"   • Check browser microphone permissions\")\n",
    "print(\"   • Use the TEST SYSTEM button in the working recorder\")"
   ]
  }
 ],
 "metadata": {
  "kernelspec": {
   "display_name": "base",
   "language": "python",
   "name": "python3"
  },
  "language_info": {
   "codemirror_mode": {
    "name": "ipython",
    "version": 3
   },
   "file_extension": ".py",
   "mimetype": "text/x-python",
   "name": "python",
   "nbconvert_exporter": "python",
   "pygments_lexer": "ipython3",
   "version": "3.12.11"
  }
 },
 "nbformat": 4,
 "nbformat_minor": 5
}
