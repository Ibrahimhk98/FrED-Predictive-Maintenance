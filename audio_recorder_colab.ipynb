{
 "cells": [
  {
   "cell_type": "markdown",
   "id": "9a822338",
   "metadata": {},
   "source": [
    "# Google Colab Audio Recorder\n",
    "\n",
    "This notebook demonstrates browser-based audio recording in Google Colab using JavaScript and the Web Audio API. This approach bypasses PyAudio limitations and works directly in the browser.\n",
    "\n",
    "**🎤 Browser-Based Recording Features:**\n",
    "- Direct microphone access through browser (no PyAudio needed)\n",
    "- Same UI design and functionality as the original recorder\n",
    "- Automatic file saving with timestamps and defect classification\n",
    "- Real-time recording timer and status updates\n",
    "- Compatible with Google Drive for data persistence\n",
    "\n",
    "**📋 Instructions:**\n",
    "1. **Allow Microphone Access**: Click \"Allow\" when your browser asks for microphone permission\n",
    "2. **Select Defect Type**: Choose the appropriate classification for your recording\n",
    "3. **Set Duration**: Choose recording length (1-10 seconds)\n",
    "4. **Record**: Click \"START RECORDING\" and speak into your microphone\n",
    "5. **Auto-Save**: Files are automatically saved with timestamps"
   ]
  },
  {
   "cell_type": "code",
   "execution_count": null,
   "id": "70353ba7",
   "metadata": {},
   "outputs": [
    {
     "name": "stdout",
     "output_type": "stream",
     "text": [
      "Cloning into 'FrED-Predictive-Maintenance-'...\n",
      "remote: Enumerating objects: 219, done.\u001b[K\n",
      "remote: Counting objects: 100% (21/21), done.\u001b[K\n",
      "remote: Compressing objects: 100% (21/21), done.\u001b[K\n",
      "^Cceiving objects:  22% (49/219), 102.32 MiB | 13.48 MiB/s\n"
     ]
    }
   ],
   "source": [
    "import os\n",
    "\n",
    "# Clone the repository if it doesn't exist\n",
    "if not os.path.exists('FrED-Predictive-Maintenance'):\n",
    "    !git clone https://github.com/Ibrahimhk98/FrED-Predictive-Maintenance.git\n",
    "    print(\"✅ Repository cloned successfully!\")\n",
    "else:\n",
    "    print(\"✅ Repository already exists\")"
   ]
  },
  {
   "cell_type": "code",
   "execution_count": null,
   "id": "06f7912a",
   "metadata": {},
   "outputs": [
    {
     "name": "stdout",
     "output_type": "stream",
     "text": [
      "Error installing requirements: Command '['/Users/ibrahimelkhatib/miniforge3/bin/python', '-m', 'pip', 'install', '-r', '/requirements.txt']' returned non-zero exit status 1.\n"
     ]
    },
    {
     "name": "stderr",
     "output_type": "stream",
     "text": [
      "\u001b[31mERROR: Could not open requirements file: [Errno 2] No such file or directory: '/requirements.txt'\u001b[0m\u001b[31m\n",
      "\u001b[0m"
     ]
    }
   ],
   "source": [
    "# Install required packages (no PyAudio needed for browser recording!)\n",
    "print(\"📦 Installing Python dependencies...\")\n",
    "!pip install ipywidgets numpy\n",
    "\n",
    "print(\"✅ Dependencies installed - ready for browser-based recording!\")"
   ]
  },
  {
   "cell_type": "code",
   "execution_count": null,
   "id": "ed66ee63",
   "metadata": {},
   "outputs": [],
   "source": [
    "# Mount Google Drive for data storage\n",
    "from google.colab import drive\n",
    "import os\n",
    "\n",
    "print(\"📁 Mounting Google Drive...\")\n",
    "drive.mount('/content/drive')\n",
    "\n",
    "# Use the shared folder ID for common data storage\n",
    "shared_folder_id = \"1p7JVh_gL663af7pwGHQPBWmp1TiS3GPz\"\n",
    "data_folder = f\"/content/drive/MyDrive/{shared_folder_id}\"\n",
    "\n",
    "# Create the shared folder if it doesn't exist\n",
    "if not os.path.exists(data_folder):\n",
    "    os.makedirs(data_folder, exist_ok=True)\n",
    "    print(f\"📁 Created shared audio data folder: {data_folder}\")\n",
    "else:\n",
    "    print(f\"✅ Using shared data folder: {data_folder}\")\n",
    "\n",
    "print(f\"🔗 Shared Folder ID: {shared_folder_id}\")\n",
    "print(\"🎵 Audio files will be organized by defect type automatically!\")\n",
    "print(\"👥 All students will save to the same shared location for easy access\")"
   ]
  },
  {
   "cell_type": "code",
   "execution_count": null,
   "id": "9d91cb4e",
   "metadata": {},
   "outputs": [],
   "source": [
    "# Verify shared folder setup and show structure\n",
    "print(\"🔍 Verifying shared folder setup...\")\n",
    "print(f\"📍 Shared Folder Path: {data_folder}\")\n",
    "\n",
    "# Check if the folder is accessible\n",
    "if os.path.exists(data_folder):\n",
    "    print(\"✅ Shared folder is accessible\")\n",
    "    \n",
    "    # Show existing structure if any\n",
    "    try:\n",
    "        contents = os.listdir(data_folder)\n",
    "        if contents:\n",
    "            print(f\"📂 Existing contents ({len(contents)} items):\")\n",
    "            for item in sorted(contents):\n",
    "                item_path = os.path.join(data_folder, item)\n",
    "                if os.path.isdir(item_path):\n",
    "                    file_count = len([f for f in os.listdir(item_path) if f.endswith('.wav')])\n",
    "                    print(f\"   📁 {item}/ ({file_count} audio files)\")\n",
    "                else:\n",
    "                    print(f\"   📄 {item}\")\n",
    "        else:\n",
    "            print(\"📂 Shared folder is empty - ready for new recordings\")\n",
    "    except Exception as e:\n",
    "        print(f\"⚠️ Could not list contents: {e}\")\n",
    "else:\n",
    "    print(\"❌ Shared folder not accessible - creating it now...\")\n",
    "    os.makedirs(data_folder, exist_ok=True)\n",
    "\n",
    "print(\"\\n\" + \"=\"*60)\n",
    "print(\"🎯 SHARED FOLDER CONFIGURATION\")\n",
    "print(\"=\"*60)\n",
    "print(f\"🆔 Folder ID: {shared_folder_id}\")\n",
    "print(f\"📍 Full Path: {data_folder}\")\n",
    "print(\"👥 All student recordings will be saved here\")\n",
    "print(\"🎵 Files organized by defect type automatically\")\n",
    "print(\"=\"*60)"
   ]
  },
  {
   "cell_type": "code",
   "execution_count": null,
   "id": "4c5e334b",
   "metadata": {},
   "outputs": [
    {
     "name": "stdout",
     "output_type": "stream",
     "text": [
      "0: Ibrahim’s iPhone Microphone\n",
      "2: MacBook Pro Microphone\n",
      "4: Immersed\n"
     ]
    },
    {
     "data": {
      "application/vnd.jupyter.widget-view+json": {
       "model_id": "8d01b89baac54516bab5bb717dbfc539",
       "version_major": 2,
       "version_minor": 0
      },
      "text/plain": [
       "VBox(children=(Dropdown(description='Device', options=(('0: Ibrahim’s iPhone Microphone', 0), ('2: MacBook Pro…"
      ]
     },
     "metadata": {},
     "output_type": "display_data"
    }
   ],
   "source": [
    "# Add the repository to Python path and import the Colab audio recorder\n",
    "import sys\n",
    "sys.path.append('/content/FrED-Predictive-Maintenance')\n",
    "\n",
    "# Import the Colab-compatible audio recorder\n",
    "from Preparation.Import.colab_audio_recorder_fixed import create_recorder_ui, list_colab_audio_devices\n",
    "\n",
    "# Show available audio capabilities - Now displays properly\n",
    "print(\"🎤 Audio Device Information:\")\n",
    "print(\"=\" * 50)\n",
    "for info in list_colab_audio_devices():\n",
    "    print(info)\n",
    "\n",
    "print(\"\\n\" + \"=\"*60)\n",
    "print(\"🚀 Launching Browser-Based Audio Recorder...\")\n",
    "print(\"=\"*60)\n",
    "print(\"✅ ENHANCED FEATURES:\")\n",
    "print(\"   • Files save to Drive folder properly\")\n",
    "print(\"   • Duration extended to 400 seconds\")  \n",
    "print(\"   • Team numbers included in filenames\")\n",
    "print(\"   • Non-blocking JavaScript execution\")\n",
    "print(\"   • Audio device info displayed\")\n",
    "print(\"=\"*60)\n",
    "\n",
    "# Create and display the recorder UI with team number support\n",
    "# You can specify team number here: team_number=1, 2, 3, etc.\n",
    "ui = create_recorder_ui(base_dir=data_folder, team_number=None)  # Set team_number as needed\n",
    "display(ui)"
   ]
  },
  {
   "cell_type": "markdown",
   "id": "0c7e39dd",
   "metadata": {},
   "source": [
    "## 🔧 Enhanced Audio Recorder!\n",
    "\n",
    "The audio recorder has been enhanced with improved functionality to address all requirements:\n",
    "\n",
    "### ✅ **Issue 1: File Saving to Drive Folder**\n",
    "- **Problem**: Files weren't saving to the requested Drive folder\n",
    "- **Enhancement**: Proper path handling and Drive integration implemented\n",
    "- **Result**: Files now save correctly to `/content/drive/MyDrive/{folder_id}/defect_type/`\n",
    "\n",
    "### ✅ **Issue 2: Duration Limitation** \n",
    "- **Problem**: Duration was limited to 10 seconds instead of 400 seconds\n",
    "- **Enhancement**: Duration slider now supports 1-400 seconds (6+ minutes)\n",
    "- **Result**: Extended recording capability for longer samples\n",
    "\n",
    "### ✅ **Issue 3: Team Number Integration**\n",
    "- **Problem**: Team number wasn't included in audio filenames\n",
    "- **Enhancement**: Added team number input field and filename integration\n",
    "- **Result**: Files now saved as `Team{X}_{DefectType}_{Timestamp}.wav`\n",
    "\n",
    "### ✅ **Issue 4: JavaScript Blocking Colab**\n",
    "- **Problem**: JavaScript code was blocking all Colab execution\n",
    "- **Enhancement**: Rewrote JavaScript to be non-blocking and Colab-compatible\n",
    "- **Result**: Smooth execution without freezing the notebook\n",
    "\n",
    "### ✅ **Issue 5: Audio Device Information**\n",
    "- **Problem**: Available audio devices weren't displayed\n",
    "- **Enhancement**: Added comprehensive device information display\n",
    "- **Result**: Detailed audio system info shown below\n",
    "\n",
    "---\n",
    "\n",
    "**📋 Usage Instructions:**\n",
    "1. Run the cell below to see audio device information\n",
    "2. Use the recorder interface with team number input\n",
    "3. Select duration up to 400 seconds\n",
    "4. Files will save with team numbers in the Drive folder"
   ]
  },
  {
   "cell_type": "code",
   "execution_count": null,
   "id": "aeabf283",
   "metadata": {},
   "outputs": [],
   "source": [
    "# Example usage with different team numbers and settings\n",
    "\n",
    "print(\"🎯 EXAMPLE USAGE SCENARIOS\")\n",
    "print(\"=\" * 50)\n",
    "\n",
    "# Example 1: Team-specific recorder\n",
    "print(\"\\n📝 Example 1: Team 5 recorder\")\n",
    "print(\"   ui = create_recorder_ui(base_dir=data_folder, team_number=5)\")\n",
    "print(\"   Files will be saved as: Team5_Good_20241028_143052.wav\")\n",
    "\n",
    "# Example 2: No team number\n",
    "print(\"\\n📝 Example 2: Individual recorder\")  \n",
    "print(\"   ui = create_recorder_ui(base_dir=data_folder)\")\n",
    "print(\"   Files will be saved as: Good_20241028_143052.wav\")\n",
    "\n",
    "# Example 3: Custom Drive folder\n",
    "print(\"\\n📝 Example 3: Custom folder\")\n",
    "print(\"   ui = create_recorder_ui(base_dir='/content/drive/MyDrive/MyAudio', team_number=3)\")\n",
    "print(\"   Files saved to custom location with team number\")\n",
    "\n",
    "print(\"\\n🔧 AVAILABLE SETTINGS:\")\n",
    "print(\"   • base_dir: Google Drive folder path\")\n",
    "print(\"   • team_number: Team identifier (1-99)\")  \n",
    "print(\"   • Duration: 1-400 seconds via slider\")\n",
    "print(\"   • Defect types: Good, Chipped Tooth, Missing Tooth, Root Crack, Other\")\n",
    "\n",
    "print(\"\\n✅ All enhancements are now active in the recorder above!\")\n",
    "print(\"📁 Files will save to:\", data_folder)"
   ]
  }
 ],
 "metadata": {
  "kernelspec": {
   "display_name": "base",
   "language": "python",
   "name": "python3"
  },
  "language_info": {
   "codemirror_mode": {
    "name": "ipython",
    "version": 3
   },
   "file_extension": ".py",
   "mimetype": "text/x-python",
   "name": "python",
   "nbconvert_exporter": "python",
   "pygments_lexer": "ipython3",
   "version": "3.12.11"
  }
 },
 "nbformat": 4,
 "nbformat_minor": 5
}
