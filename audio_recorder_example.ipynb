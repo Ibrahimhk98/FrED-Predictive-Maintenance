{
 "cells": [
  {
   "cell_type": "markdown",
   "id": "9a822338",
   "metadata": {},
   "source": [
    "# Audio Recorder Example\n",
    "\n",
    "This notebook demonstrates how to use `Preparation.Import.audio_recorder` to list input devices and record short audio snippets organized by defect type.\n",
    "\n",
    "Notes:\n",
    "- Ensure you installed the dependencies from `Preparation/Import/requirements.txt`.\n",
    "- On macOS grant microphone permission to your terminal/IDE before recording."
   ]
  },
  {
   "cell_type": "code",
   "execution_count": 2,
   "id": "4c5e334b",
   "metadata": {},
   "outputs": [
    {
     "name": "stdout",
     "output_type": "stream",
     "text": [
      "0: Ibrahim’s iPhone Microphone\n",
      "1: MacBook Pro Microphone\n",
      "3: Ibrahim’s AirPods Pro\n",
      "5: Immersed\n"
     ]
    }
   ],
   "source": [
    "# Example: list devices and record a 2 second snippet\n",
    "from Preparation.Import.audio_recorder import list_audio_devices, record_snippet\n",
    "\n",
    "# List available input devices (show index and name)\n",
    "devices = list_audio_devices()\n",
    "print('\\n'.join(devices))\n"
   ]
  },
  {
   "cell_type": "code",
   "execution_count": null,
   "id": "fd14ea8c",
   "metadata": {},
   "outputs": [
    {
     "data": {
      "application/vnd.jupyter.widget-view+json": {
       "model_id": "e59c363742ad4ffb9ea74cf8080d0523",
       "version_major": 2,
       "version_minor": 0
      },
      "text/plain": [
       "VBox(children=(Dropdown(description='Device:', index=1, options=(('0: Ibrahim’s iPhone Microphone', 0), ('1: M…"
      ]
     },
     "metadata": {},
     "output_type": "display_data"
    }
   ],
   "source": [
    "# Build and display the recorder UI from the audio_recorder module\n",
    "from Preparation.Import.audio_recorder import create_recorder_ui\n",
    "ui = create_recorder_ui()\n",
    "display(ui)\n"
   ]
  },
  {
   "cell_type": "code",
   "execution_count": 14,
   "id": "9578ace7",
   "metadata": {},
   "outputs": [
    {
     "name": "stdout",
     "output_type": "stream",
     "text": [
      "Recording 3.0s @ 44100Hz, channels=1 to data/audio/Good/20250918_172743.wav\n",
      "Saved: data/audio/Good/20250918_172743.wav\n",
      "Saved to: data/audio/Good/20250918_172743.wav\n",
      "Saved: data/audio/Good/20250918_172743.wav\n",
      "Saved to: data/audio/Good/20250918_172743.wav\n"
     ]
    }
   ],
   "source": [
    "# Record an example snippet using UI inputs\n",
    "out = record_snippet(\n",
    "    defect_type_input.value,\n",
    "    duration=duration_input.value,\n",
    "    samplerate=samplerate_input.value,\n",
    "    channels=channels_input.value,\n",
    "    device=device_index\n",
    ")\n",
    "print('Saved to:', out)"
   ]
  }
 ],
 "metadata": {
  "kernelspec": {
   "display_name": "Python 3",
   "language": "python",
   "name": "python3"
  },
  "language_info": {
   "codemirror_mode": {
    "name": "ipython",
    "version": 3
   },
   "file_extension": ".py",
   "mimetype": "text/x-python",
   "name": "python",
   "nbconvert_exporter": "python",
   "pygments_lexer": "ipython3",
   "version": "3.11.0"
  }
 },
 "nbformat": 4,
 "nbformat_minor": 5
}
