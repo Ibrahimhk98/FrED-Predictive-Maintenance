{
 "cells": [
  {
   "cell_type": "markdown",
   "id": "9a822338",
   "metadata": {},
   "source": [
    "# Audio Recorder\n",
    "\n",
    "This notebook demonstrates how to use `Preparation.Import.audio_recorder` to list input devices and record short audio snippets organized by defect type.\n",
    "\n",
    "Notes:\n",
    "- Ensure you installed the dependencies from `Preparation/Import/requirements.txt`.\n",
    "- On macOS grant microphone permission to your terminal/IDE before recording."
   ]
  },
  {
   "cell_type": "code",
   "execution_count": 2,
   "id": "4c5e334b",
   "metadata": {},
   "outputs": [
    {
     "name": "stdout",
     "output_type": "stream",
     "text": [
      "0: Ibrahim’s iPhone Microphone\n",
      "1: Cable Creation\n",
      "2: MacBook Pro Microphone\n",
      "4: Ibrahim’s AirPods Pro\n",
      "6: Immersed\n"
     ]
    },
    {
     "data": {
      "application/vnd.jupyter.widget-view+json": {
       "model_id": "3907efaa9962418a83085fefdc102093",
       "version_major": 2,
       "version_minor": 0
      },
      "text/plain": [
       "VBox(children=(Dropdown(description='Device', options=(('0: Ibrahim’s iPhone Microphone', 0), ('1: Cable Creat…"
      ]
     },
     "metadata": {},
     "output_type": "display_data"
    }
   ],
   "source": [
    "# Example: list devices and record a 2 second snippet\n",
    "from Preparation.Import.audio_recorder import list_audio_devices, record_snippet\n",
    "# Build and display the recorder UI from the audio_recorder module\n",
    "from Preparation.Import.audio_recorder import create_recorder_ui\n",
    "\n",
    "# List available input devices (show index and name)\n",
    "devices = list_audio_devices()\n",
    "print('\\n'.join(devices))\n",
    "ui = create_recorder_ui()\n",
    "display(ui)\n"
   ]
  },
  {
   "cell_type": "code",
   "execution_count": 4,
   "id": "d3d1673c",
   "metadata": {},
   "outputs": [
    {
     "data": {
      "application/vnd.jupyter.widget-view+json": {
       "model_id": "c2f8fafb2806451b865fd81ffc079e43",
       "version_major": 2,
       "version_minor": 0
      },
      "text/plain": [
       "VBox(children=(Dropdown(description='Device', options=(('0: Ibrahim’s iPhone Microphone', 0), ('1: Cable Creat…"
      ]
     },
     "metadata": {},
     "output_type": "display_data"
    }
   ],
   "source": [
    "# Record test files in different directory\n",
    "ui = create_recorder_ui(base_dir=\"sample_data/audio\")\n",
    "display(ui)"
   ]
  }
 ],
 "metadata": {
  "kernelspec": {
   "display_name": "Python 3",
   "language": "python",
   "name": "python3"
  },
  "language_info": {
   "codemirror_mode": {
    "name": "ipython",
    "version": 3
   },
   "file_extension": ".py",
   "mimetype": "text/x-python",
   "name": "python",
   "nbconvert_exporter": "python",
   "pygments_lexer": "ipython3",
   "version": "3.11.0"
  }
 },
 "nbformat": 4,
 "nbformat_minor": 5
}
