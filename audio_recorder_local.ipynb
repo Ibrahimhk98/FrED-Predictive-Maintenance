{
 "cells": [
  {
   "cell_type": "markdown",
   "id": "aa0b946e-b324-4e33-9a4d-5c5482ca7a99",
   "metadata": {},
   "source": [
    "# Audio Recorder\n",
    "\n",
    "This notebook demonstrates how to use `Preparation.Import.audio_recorder` to list input devices and record short audio snippets organized by defect type.\n",
    "\n",
    "Notes:\n",
    "- Ensure you installed the dependencies from `Preparation/Import/requirements.txt`.\n",
    "- On macOS grant microphone permission to your terminal/IDE before recording."
   ]
  },
  {
   "cell_type": "code",
   "execution_count": 3,
   "id": "42722c4a-9c92-4ec6-89b3-5587aaca335d",
   "metadata": {},
   "outputs": [
    {
     "name": "stdout",
     "output_type": "stream",
     "text": [
      "Collecting sounddevice>=0.4.8 (from -r requirements.txt (line 1))\n",
      "  Downloading sounddevice-0.5.3-py3-none-macosx_10_6_x86_64.macosx_10_6_universal2.whl.metadata (1.6 kB)\n",
      "Collecting soundfile>=0.12.1 (from -r requirements.txt (line 2))\n",
      "  Using cached soundfile-0.13.1-py2.py3-none-macosx_11_0_arm64.whl.metadata (16 kB)\n",
      "Requirement already satisfied: numpy>=1.24 in /opt/anaconda3/lib/python3.13/site-packages (from -r requirements.txt (line 3)) (2.1.3)\n",
      "Requirement already satisfied: ipywidgets>=8.0 in /opt/anaconda3/lib/python3.13/site-packages (from -r requirements.txt (line 4)) (8.1.5)\n",
      "Requirement already satisfied: tqdm>=4.64.0 in /opt/anaconda3/lib/python3.13/site-packages (from -r requirements.txt (line 5)) (4.67.1)\n",
      "Collecting librosa>=0.10.0 (from -r requirements.txt (line 6))\n",
      "  Using cached librosa-0.11.0-py3-none-any.whl.metadata (8.7 kB)\n",
      "Requirement already satisfied: scikit-learn>=1.2 in /opt/anaconda3/lib/python3.13/site-packages (from -r requirements.txt (line 7)) (1.6.1)\n",
      "Requirement already satisfied: pandas>=2.0 in /opt/anaconda3/lib/python3.13/site-packages (from -r requirements.txt (line 8)) (2.2.3)\n",
      "Requirement already satisfied: joblib>=1.2 in /opt/anaconda3/lib/python3.13/site-packages (from -r requirements.txt (line 9)) (1.4.2)\n",
      "Requirement already satisfied: matplotlib>=3.7 in /opt/anaconda3/lib/python3.13/site-packages (from -r requirements.txt (line 10)) (3.10.0)\n",
      "Requirement already satisfied: scipy>=1.10 in /opt/anaconda3/lib/python3.13/site-packages (from -r requirements.txt (line 11)) (1.15.3)\n",
      "Requirement already satisfied: pytest>=7.0 in /opt/anaconda3/lib/python3.13/site-packages (from -r requirements.txt (line 13)) (8.3.4)\n",
      "Collecting shap>=0.42 (from -r requirements.txt (line 14))\n",
      "  Downloading shap-0.49.1-cp313-cp313-macosx_11_0_arm64.whl.metadata (25 kB)\n",
      "Requirement already satisfied: seaborn>=0.12 in /opt/anaconda3/lib/python3.13/site-packages (from -r requirements.txt (line 15)) (0.13.2)\n",
      "Requirement already satisfied: CFFI>=1.0 in /opt/anaconda3/lib/python3.13/site-packages (from sounddevice>=0.4.8->-r requirements.txt (line 1)) (1.17.1)\n",
      "Requirement already satisfied: comm>=0.1.3 in /opt/anaconda3/lib/python3.13/site-packages (from ipywidgets>=8.0->-r requirements.txt (line 4)) (0.2.1)\n",
      "Requirement already satisfied: ipython>=6.1.0 in /opt/anaconda3/lib/python3.13/site-packages (from ipywidgets>=8.0->-r requirements.txt (line 4)) (8.30.0)\n",
      "Requirement already satisfied: traitlets>=4.3.1 in /opt/anaconda3/lib/python3.13/site-packages (from ipywidgets>=8.0->-r requirements.txt (line 4)) (5.14.3)\n",
      "Requirement already satisfied: widgetsnbextension~=4.0.12 in /opt/anaconda3/lib/python3.13/site-packages (from ipywidgets>=8.0->-r requirements.txt (line 4)) (4.0.13)\n",
      "Requirement already satisfied: jupyterlab-widgets~=3.0.12 in /opt/anaconda3/lib/python3.13/site-packages (from ipywidgets>=8.0->-r requirements.txt (line 4)) (3.0.13)\n",
      "Collecting audioread>=2.1.9 (from librosa>=0.10.0->-r requirements.txt (line 6))\n",
      "  Downloading audioread-3.1.0-py3-none-any.whl.metadata (9.0 kB)\n",
      "Requirement already satisfied: numba>=0.51.0 in /opt/anaconda3/lib/python3.13/site-packages (from librosa>=0.10.0->-r requirements.txt (line 6)) (0.61.0)\n",
      "Requirement already satisfied: decorator>=4.3.0 in /opt/anaconda3/lib/python3.13/site-packages (from librosa>=0.10.0->-r requirements.txt (line 6)) (5.1.1)\n",
      "Collecting pooch>=1.1 (from librosa>=0.10.0->-r requirements.txt (line 6))\n",
      "  Using cached pooch-1.8.2-py3-none-any.whl.metadata (10 kB)\n",
      "Collecting soxr>=0.3.2 (from librosa>=0.10.0->-r requirements.txt (line 6))\n",
      "  Using cached soxr-1.0.0-cp312-abi3-macosx_11_0_arm64.whl.metadata (5.6 kB)\n",
      "Requirement already satisfied: typing_extensions>=4.1.1 in /opt/anaconda3/lib/python3.13/site-packages (from librosa>=0.10.0->-r requirements.txt (line 6)) (4.12.2)\n",
      "Requirement already satisfied: lazy_loader>=0.1 in /opt/anaconda3/lib/python3.13/site-packages (from librosa>=0.10.0->-r requirements.txt (line 6)) (0.4)\n",
      "Requirement already satisfied: msgpack>=1.0 in /opt/anaconda3/lib/python3.13/site-packages (from librosa>=0.10.0->-r requirements.txt (line 6)) (1.0.3)\n",
      "Collecting standard-aifc (from librosa>=0.10.0->-r requirements.txt (line 6))\n",
      "  Downloading standard_aifc-3.13.0-py3-none-any.whl.metadata (969 bytes)\n",
      "Collecting standard-sunau (from librosa>=0.10.0->-r requirements.txt (line 6))\n",
      "  Downloading standard_sunau-3.13.0-py3-none-any.whl.metadata (914 bytes)\n",
      "Requirement already satisfied: threadpoolctl>=3.1.0 in /opt/anaconda3/lib/python3.13/site-packages (from scikit-learn>=1.2->-r requirements.txt (line 7)) (3.5.0)\n",
      "Requirement already satisfied: python-dateutil>=2.8.2 in /opt/anaconda3/lib/python3.13/site-packages (from pandas>=2.0->-r requirements.txt (line 8)) (2.9.0.post0)\n",
      "Requirement already satisfied: pytz>=2020.1 in /opt/anaconda3/lib/python3.13/site-packages (from pandas>=2.0->-r requirements.txt (line 8)) (2024.1)\n",
      "Requirement already satisfied: tzdata>=2022.7 in /opt/anaconda3/lib/python3.13/site-packages (from pandas>=2.0->-r requirements.txt (line 8)) (2025.2)\n",
      "Requirement already satisfied: contourpy>=1.0.1 in /opt/anaconda3/lib/python3.13/site-packages (from matplotlib>=3.7->-r requirements.txt (line 10)) (1.3.1)\n",
      "Requirement already satisfied: cycler>=0.10 in /opt/anaconda3/lib/python3.13/site-packages (from matplotlib>=3.7->-r requirements.txt (line 10)) (0.11.0)\n",
      "Requirement already satisfied: fonttools>=4.22.0 in /opt/anaconda3/lib/python3.13/site-packages (from matplotlib>=3.7->-r requirements.txt (line 10)) (4.55.3)\n",
      "Requirement already satisfied: kiwisolver>=1.3.1 in /opt/anaconda3/lib/python3.13/site-packages (from matplotlib>=3.7->-r requirements.txt (line 10)) (1.4.8)\n",
      "Requirement already satisfied: packaging>=20.0 in /opt/anaconda3/lib/python3.13/site-packages (from matplotlib>=3.7->-r requirements.txt (line 10)) (24.2)\n",
      "Requirement already satisfied: pillow>=8 in /opt/anaconda3/lib/python3.13/site-packages (from matplotlib>=3.7->-r requirements.txt (line 10)) (11.1.0)\n",
      "Requirement already satisfied: pyparsing>=2.3.1 in /opt/anaconda3/lib/python3.13/site-packages (from matplotlib>=3.7->-r requirements.txt (line 10)) (3.2.0)\n",
      "Requirement already satisfied: iniconfig in /opt/anaconda3/lib/python3.13/site-packages (from pytest>=7.0->-r requirements.txt (line 13)) (1.1.1)\n",
      "Requirement already satisfied: pluggy<2,>=1.5 in /opt/anaconda3/lib/python3.13/site-packages (from pytest>=7.0->-r requirements.txt (line 13)) (1.5.0)\n",
      "Collecting slicer==0.0.8 (from shap>=0.42->-r requirements.txt (line 14))\n",
      "  Using cached slicer-0.0.8-py3-none-any.whl.metadata (4.0 kB)\n",
      "Requirement already satisfied: cloudpickle in /opt/anaconda3/lib/python3.13/site-packages (from shap>=0.42->-r requirements.txt (line 14)) (3.0.0)\n",
      "Requirement already satisfied: pycparser in /opt/anaconda3/lib/python3.13/site-packages (from CFFI>=1.0->sounddevice>=0.4.8->-r requirements.txt (line 1)) (2.21)\n",
      "Requirement already satisfied: jedi>=0.16 in /opt/anaconda3/lib/python3.13/site-packages (from ipython>=6.1.0->ipywidgets>=8.0->-r requirements.txt (line 4)) (0.19.2)\n",
      "Requirement already satisfied: matplotlib-inline in /opt/anaconda3/lib/python3.13/site-packages (from ipython>=6.1.0->ipywidgets>=8.0->-r requirements.txt (line 4)) (0.1.6)\n",
      "Requirement already satisfied: prompt-toolkit<3.1.0,>=3.0.41 in /opt/anaconda3/lib/python3.13/site-packages (from ipython>=6.1.0->ipywidgets>=8.0->-r requirements.txt (line 4)) (3.0.43)\n",
      "Requirement already satisfied: pygments>=2.4.0 in /opt/anaconda3/lib/python3.13/site-packages (from ipython>=6.1.0->ipywidgets>=8.0->-r requirements.txt (line 4)) (2.19.1)\n",
      "Requirement already satisfied: stack-data in /opt/anaconda3/lib/python3.13/site-packages (from ipython>=6.1.0->ipywidgets>=8.0->-r requirements.txt (line 4)) (0.2.0)\n",
      "Requirement already satisfied: pexpect>4.3 in /opt/anaconda3/lib/python3.13/site-packages (from ipython>=6.1.0->ipywidgets>=8.0->-r requirements.txt (line 4)) (4.8.0)\n",
      "Requirement already satisfied: wcwidth in /opt/anaconda3/lib/python3.13/site-packages (from prompt-toolkit<3.1.0,>=3.0.41->ipython>=6.1.0->ipywidgets>=8.0->-r requirements.txt (line 4)) (0.2.5)\n",
      "Requirement already satisfied: parso<0.9.0,>=0.8.4 in /opt/anaconda3/lib/python3.13/site-packages (from jedi>=0.16->ipython>=6.1.0->ipywidgets>=8.0->-r requirements.txt (line 4)) (0.8.4)\n",
      "Requirement already satisfied: llvmlite<0.45,>=0.44.0dev0 in /opt/anaconda3/lib/python3.13/site-packages (from numba>=0.51.0->librosa>=0.10.0->-r requirements.txt (line 6)) (0.44.0)\n",
      "Requirement already satisfied: ptyprocess>=0.5 in /opt/anaconda3/lib/python3.13/site-packages (from pexpect>4.3->ipython>=6.1.0->ipywidgets>=8.0->-r requirements.txt (line 4)) (0.7.0)\n",
      "Requirement already satisfied: platformdirs>=2.5.0 in /opt/anaconda3/lib/python3.13/site-packages (from pooch>=1.1->librosa>=0.10.0->-r requirements.txt (line 6)) (4.3.7)\n",
      "Requirement already satisfied: requests>=2.19.0 in /opt/anaconda3/lib/python3.13/site-packages (from pooch>=1.1->librosa>=0.10.0->-r requirements.txt (line 6)) (2.32.3)\n",
      "Requirement already satisfied: six>=1.5 in /opt/anaconda3/lib/python3.13/site-packages (from python-dateutil>=2.8.2->pandas>=2.0->-r requirements.txt (line 8)) (1.17.0)\n",
      "Requirement already satisfied: charset-normalizer<4,>=2 in /opt/anaconda3/lib/python3.13/site-packages (from requests>=2.19.0->pooch>=1.1->librosa>=0.10.0->-r requirements.txt (line 6)) (3.3.2)\n",
      "Requirement already satisfied: idna<4,>=2.5 in /opt/anaconda3/lib/python3.13/site-packages (from requests>=2.19.0->pooch>=1.1->librosa>=0.10.0->-r requirements.txt (line 6)) (3.7)\n",
      "Requirement already satisfied: urllib3<3,>=1.21.1 in /opt/anaconda3/lib/python3.13/site-packages (from requests>=2.19.0->pooch>=1.1->librosa>=0.10.0->-r requirements.txt (line 6)) (2.3.0)\n",
      "Requirement already satisfied: certifi>=2017.4.17 in /opt/anaconda3/lib/python3.13/site-packages (from requests>=2.19.0->pooch>=1.1->librosa>=0.10.0->-r requirements.txt (line 6)) (2025.10.5)\n",
      "Requirement already satisfied: executing in /opt/anaconda3/lib/python3.13/site-packages (from stack-data->ipython>=6.1.0->ipywidgets>=8.0->-r requirements.txt (line 4)) (0.8.3)\n",
      "Requirement already satisfied: asttokens in /opt/anaconda3/lib/python3.13/site-packages (from stack-data->ipython>=6.1.0->ipywidgets>=8.0->-r requirements.txt (line 4)) (3.0.0)\n",
      "Requirement already satisfied: pure-eval in /opt/anaconda3/lib/python3.13/site-packages (from stack-data->ipython>=6.1.0->ipywidgets>=8.0->-r requirements.txt (line 4)) (0.2.2)\n",
      "Collecting standard-chunk (from standard-aifc->librosa>=0.10.0->-r requirements.txt (line 6))\n",
      "  Downloading standard_chunk-3.13.0-py3-none-any.whl.metadata (860 bytes)\n",
      "Collecting audioop-lts (from standard-aifc->librosa>=0.10.0->-r requirements.txt (line 6))\n",
      "  Downloading audioop_lts-0.2.2-cp313-abi3-macosx_11_0_arm64.whl.metadata (2.0 kB)\n",
      "Downloading sounddevice-0.5.3-py3-none-macosx_10_6_x86_64.macosx_10_6_universal2.whl (108 kB)\n",
      "Using cached soundfile-0.13.1-py2.py3-none-macosx_11_0_arm64.whl (1.1 MB)\n",
      "Using cached librosa-0.11.0-py3-none-any.whl (260 kB)\n",
      "Downloading shap-0.49.1-cp313-cp313-macosx_11_0_arm64.whl (555 kB)\n",
      "\u001b[2K   \u001b[90m━━━━━━━━━━━━━━━━━━━━━━━━━━━━━━━━━━━━━━━━\u001b[0m \u001b[32m555.3/555.3 kB\u001b[0m \u001b[31m12.7 MB/s\u001b[0m eta \u001b[36m0:00:00\u001b[0m\n",
      "\u001b[?25hUsing cached slicer-0.0.8-py3-none-any.whl (15 kB)\n",
      "Downloading audioread-3.1.0-py3-none-any.whl (23 kB)\n",
      "Using cached pooch-1.8.2-py3-none-any.whl (64 kB)\n",
      "Using cached soxr-1.0.0-cp312-abi3-macosx_11_0_arm64.whl (163 kB)\n",
      "Downloading standard_aifc-3.13.0-py3-none-any.whl (10 kB)\n",
      "Downloading audioop_lts-0.2.2-cp313-abi3-macosx_11_0_arm64.whl (26 kB)\n",
      "Downloading standard_chunk-3.13.0-py3-none-any.whl (4.9 kB)\n",
      "Downloading standard_sunau-3.13.0-py3-none-any.whl (7.4 kB)\n",
      "Installing collected packages: standard-chunk, soxr, slicer, audioop-lts, standard-sunau, standard-aifc, soundfile, sounddevice, pooch, shap, audioread, librosa\n",
      "\u001b[2K   \u001b[90m━━━━━━━━━━━━━━━━━━━━━━━━━━━━━━━━━━━━━━━━\u001b[0m \u001b[32m12/12\u001b[0m [librosa]1/12\u001b[0m [librosa]\n",
      "Successfully installed audioop-lts-0.2.2 audioread-3.1.0 librosa-0.11.0 pooch-1.8.2 shap-0.49.1 slicer-0.0.8 sounddevice-0.5.3 soundfile-0.13.1 soxr-1.0.0 standard-aifc-3.13.0 standard-chunk-3.13.0 standard-sunau-3.13.0\n",
      "Note: you may need to restart the kernel to use updated packages.\n"
     ]
    }
   ],
   "source": [
    "pip install -r requirements.txt"
   ]
  },
  {
   "cell_type": "code",
   "execution_count": 4,
   "id": "4c5e334b",
   "metadata": {},
   "outputs": [
    {
     "name": "stdout",
     "output_type": "stream",
     "text": [
      "1: Ibrahim’s iPhone Microphone\n",
      "2: MacBook Pro Microphone\n",
      "4: Immersed\n"
     ]
    },
    {
     "data": {
      "application/vnd.jupyter.widget-view+json": {
       "model_id": "1e4eed0d2d3c44b4912c9c09fab440f4",
       "version_major": 2,
       "version_minor": 0
      },
      "text/plain": [
       "VBox(children=(Dropdown(description='Device', options=(('1: Ibrahim’s iPhone Microphone', 1), ('2: MacBook Pro…"
      ]
     },
     "metadata": {},
     "output_type": "display_data"
    }
   ],
   "source": [
    "# Example: list devices and record a 2 second snippet\n",
    "from Preparation.Import.audio_recorder import list_audio_devices, record_snippet\n",
    "# Build and display the recorder UI from the audio_recorder module\n",
    "from Preparation.Import.audio_recorder import create_recorder_ui\n",
    "\n",
    "# List available input devices (show index and name)\n",
    "devices = list_audio_devices()\n",
    "print('\\n'.join(devices))\n",
    "ui = create_recorder_ui()\n",
    "display(ui)\n"
   ]
  },
  {
   "cell_type": "code",
   "execution_count": 2,
   "id": "d3d1673c",
   "metadata": {},
   "outputs": [
    {
     "data": {
      "application/vnd.jupyter.widget-view+json": {
       "model_id": "61e409a032fa4050bc93c389662edd5a",
       "version_major": 2,
       "version_minor": 0
      },
      "text/plain": [
       "VBox(children=(Dropdown(description='Device', options=(('0: Ibrahim’s iPhone Microphone', 0), ('1: Cable Creat…"
      ]
     },
     "metadata": {},
     "output_type": "display_data"
    }
   ],
   "source": [
    "# Record test files in different directory\n",
    "ui = create_recorder_ui(base_dir=\"sample_data/audio\")\n",
    "display(ui)"
   ]
  }
 ],
 "metadata": {
  "kernelspec": {
   "display_name": "Python 3 (ipykernel)",
   "language": "python",
   "name": "python3"
  },
  "language_info": {
   "codemirror_mode": {
    "name": "ipython",
    "version": 3
   },
   "file_extension": ".py",
   "mimetype": "text/x-python",
   "name": "python",
   "nbconvert_exporter": "python",
   "pygments_lexer": "ipython3",
   "version": "3.13.5"
  }
 },
 "nbformat": 4,
 "nbformat_minor": 5
}
