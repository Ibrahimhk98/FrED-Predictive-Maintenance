{
 "cells": [
  {
   "cell_type": "markdown",
   "id": "9a822338",
   "metadata": {},
   "source": [
    "# Audio Recorder\n",
    "\n",
    "This notebook demonstrates how to record short audio snippets organized by defect type.\n",
    "\n",
    "Notes:\n",
    "- Ensure that the repository has been cloned successfully.\n",
    "- Ensure you installed the dependencies from `FrED-Predictive-Maintenance/requirements.txt`.\n",
    "- On macOS grant microphone permission to your terminal/IDE before recording."
   ]
  },
  {
   "cell_type": "code",
   "execution_count": null,
   "id": "ff38687e",
   "metadata": {
    "vscode": {
     "languageId": "markdown"
    }
   },
   "outputs": [],
   "source": [
    "%%bash\n",
    "conda install -y git\n",
    "!git clone https://github.com/Ibrahimhk98/FrED-Predictive-Maintenance.git"
   ]
  },
  {
   "cell_type": "code",
   "execution_count": null,
   "id": "90001dcb",
   "metadata": {},
   "outputs": [],
   "source": [
    "# Add FrED-Predictive-Maintenance to path\n",
    "import sys\n",
    "sys.path.append('FrED-Predictive-Maintenance/')\n",
    "#install requirements\n",
    "%pip install -r FrED-Predictive-Maintenance/requirements.txt"
   ]
  },
  {
   "cell_type": "markdown",
   "id": "efa09cac",
   "metadata": {},
   "source": [
    "# Recording Instructions\n",
    "\n",
    "Each team should record TWO audio samples of 400 seconds each:\n",
    "\n",
    "#### 1. GOOD GEAR (400 seconds)\n",
    "- Enter your team number\n",
    "- Record a healthy gear system operating normally\n",
    "- Ensure stable operating conditions\n",
    "- Minimize background noise\n",
    "\n",
    "#### 2. DEFECTIVE GEAR (400 seconds)\n",
    "- Enter your team number\n",
    "- Record the gear system with your assigned defect type\n",
    "- Maintain consistent operating conditions\n",
    "- Document the specific defect being recorded\n",
    "\n",
    "\n",
    "#### 📁 All audio recordings will be saved in the data folder\n",
    "#### 🎤 Use the recorder UI in the cells below to capture your samples \n",
    "#### ⏱️ Each recording should be exactly 400 seconds long \n",
    "#### 📤 After recording, rename your data folder to data_team# (replace # with your team number) and upload it to the shared folder \n"
   ]
  },
  {
   "cell_type": "code",
   "execution_count": null,
   "id": "4c5e334b",
   "metadata": {},
   "outputs": [
    {
     "name": "stdout",
     "output_type": "stream",
     "text": [
      "1: Ibrahim’s iPhone Microphone\n",
      "2: MacBook Pro Microphone\n",
      "4: Immersed\n"
     ]
    },
    {
     "data": {
      "application/vnd.jupyter.widget-view+json": {
       "model_id": "cad1848163484dc185b95502dc0d4903",
       "version_major": 2,
       "version_minor": 0
      },
      "text/plain": [
       "VBox(children=(Dropdown(description='Device', options=(('1: Ibrahim’s iPhone Microphone', 1), ('2: MacBook Pro…"
      ]
     },
     "metadata": {},
     "output_type": "display_data"
    }
   ],
   "source": [
    "from Preparation.Import.audio_recorder import list_audio_devices\n",
    "from Preparation.Import.audio_recorder import create_recorder_ui\n",
    "\n",
    "# List available input devices (show index and name)\n",
    "devices = list_audio_devices()\n",
    "print('\\n'.join(devices))\n",
    "ui = create_recorder_ui()\n",
    "display(ui)\n"
   ]
  }
 ],
 "metadata": {
  "kernelspec": {
   "display_name": "base",
   "language": "python",
   "name": "python3"
  },
  "language_info": {
   "codemirror_mode": {
    "name": "ipython",
    "version": 3
   },
   "file_extension": ".py",
   "mimetype": "text/x-python",
   "name": "python",
   "nbconvert_exporter": "python",
   "pygments_lexer": "ipython3",
   "version": "3.12.11"
  }
 },
 "nbformat": 4,
 "nbformat_minor": 5
}
